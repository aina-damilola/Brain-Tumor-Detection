{
  "cells": [
    {
      "cell_type": "markdown",
      "metadata": {
        "id": "V0XiYRZ18IT9"
      },
      "source": [
        "Importing Neccesary Libraries"
      ]
    },
    {
      "cell_type": "code",
      "execution_count": 1,
      "metadata": {
        "id": "ETt1CH2r3j6Z"
      },
      "outputs": [],
      "source": [
        "import numpy as np\n",
        "import matplotlib.pyplot as plt\n",
        "import time\n",
        "import torch\n",
        "import torch.nn as nn\n",
        "import torch.nn.functional as F\n",
        "import torch.optim as optim\n",
        "import torchvision\n",
        "from torch.utils.data.sampler import SubsetRandomSampler\n",
        "from torch.utils.data import Subset\n",
        "import torchvision.transforms as transforms\n",
        "import torchvision.datasets as datasets\n",
        "from torch.utils.data import DataLoader, random_split\n",
        "import zipfile\n",
        "import os, os.path"
      ]
    },
    {
      "cell_type": "markdown",
      "metadata": {
        "id": "8pQn4P928MIJ"
      },
      "source": [
        "Loading Data"
      ]
    },
    {
      "cell_type": "code",
      "execution_count": 2,
      "metadata": {
        "colab": {
          "base_uri": "https://localhost:8080/"
        },
        "id": "KbjmH9so4P3F",
        "outputId": "e3fa7036-e543-41d4-de9c-d50e32ee2568"
      },
      "outputs": [
        {
          "output_type": "stream",
          "name": "stdout",
          "text": [
            "Mounted at /content/drive\n"
          ]
        }
      ],
      "source": [
        "from google.colab import drive\n",
        "drive.mount('/content/drive')"
      ]
    },
    {
      "cell_type": "code",
      "execution_count": 3,
      "metadata": {
        "id": "WKH6yrVFUUbM"
      },
      "outputs": [],
      "source": [
        "import zipfile\n",
        "\n",
        "zip_ref = zipfile.ZipFile('/content/drive/MyDrive/Colab Notebooks/Raw_Data_Split-20240703T015611Z-001.zip', 'r')\n",
        "zip_ref.extractall('/content/Raw_Data_v2')\n",
        "zip_ref.close()"
      ]
    },
    {
      "cell_type": "markdown",
      "metadata": {
        "id": "jo3ht7HM7nLc"
      },
      "source": [
        "Exploratory Data Analysis"
      ]
    },
    {
      "cell_type": "code",
      "execution_count": 5,
      "metadata": {
        "colab": {
          "base_uri": "https://localhost:8080/"
        },
        "id": "Np0fH5Lc4XYN",
        "outputId": "86ed7383-d460-4643-9dfe-e245d8ae52f4"
      },
      "outputs": [
        {
          "output_type": "stream",
          "name": "stdout",
          "text": [
            "Number of images in 'glioma_tumor': 2547\n",
            "Number of images in 'meningioma_tumor': 2582\n",
            "Number of images in 'no_tumor': 2396\n",
            "Number of images in 'pituitary_tumor': 2658\n",
            "Total number of images: 10183\n"
          ]
        }
      ],
      "source": [
        "zip_path = '/content/drive/MyDrive/Colab Notebooks/Raw_Data.zip'\n",
        "extract_path = '/content/drive/MyDrive/Colab Notebooks/Raw_Data/'\n",
        "\n",
        "#Unzipping folder\n",
        "#with zipfile.ZipFile(zip_path, 'r') as zip_ref:\n",
        "    #zip_ref.extractall(extract_path)\n",
        "\n",
        "#Defining path to access each class folder\n",
        "subdir_path = os.path.join(extract_path, \"Raw_Data\")\n",
        "subdir_list = ['glioma_tumor', 'meningioma_tumor', 'no_tumor', 'pituitary_tumor']\n",
        "\n",
        "#Function to count the number of images\n",
        "def count_images(directory):\n",
        "    return len([name for name in os.listdir(directory)\n",
        "                if os.path.isfile(os.path.join(directory, name)) and\n",
        "                name.lower().endswith(('.png', '.jpg', '.jpeg'))])\n",
        "\n",
        "#Loop through each class, print number of images and total number of images\n",
        "tot_images = 0\n",
        "for subfolder in subdir_list:\n",
        "    subfolder_path = os.path.join(subdir_path, subfolder)\n",
        "    if os.path.isdir(subfolder_path):\n",
        "        num_images = count_images(subfolder_path)\n",
        "        tot_images += num_images\n",
        "        print(f\"Number of images in '{subfolder}': {num_images}\")\n",
        "print(f\"Total number of images: {tot_images}\")"
      ]
    },
    {
      "cell_type": "code",
      "execution_count": 6,
      "metadata": {
        "id": "SVb9rxsqJslh"
      },
      "outputs": [],
      "source": [
        "#!pip install split_folders"
      ]
    },
    {
      "cell_type": "code",
      "execution_count": 7,
      "metadata": {
        "id": "BNXQQX1_J_eG"
      },
      "outputs": [],
      "source": [
        "#import splitfolders\n",
        "#splitfolders.ratio('/content/drive/MyDrive/Colab Notebooks/Raw_Data/Raw_Data', '/content/drive/MyDrive/Colab Notebooks/Raw_Data_Split',seed=999, ratio=(.6,.2,.2))"
      ]
    },
    {
      "cell_type": "code",
      "execution_count": 8,
      "metadata": {
        "colab": {
          "base_uri": "https://localhost:8080/"
        },
        "id": "WNE2fJX2Lfeh",
        "outputId": "3fd27e0d-a037-4465-afc8-e2e932d6dbb7"
      },
      "outputs": [
        {
          "output_type": "stream",
          "name": "stdout",
          "text": [
            "train set image distribution:\n",
            "  Number of images in class 'glioma_tumor': 1528\n",
            "  Number of images in class 'meningioma_tumor': 1549\n",
            "  Number of images in class 'no_tumor': 1437\n",
            "  Number of images in class 'pituitary_tumor': 1594\n",
            "val set image distribution:\n",
            "  Number of images in class 'glioma_tumor': 509\n",
            "  Number of images in class 'meningioma_tumor': 516\n",
            "  Number of images in class 'no_tumor': 479\n",
            "  Number of images in class 'pituitary_tumor': 531\n",
            "test set image distribution:\n",
            "  Number of images in class 'glioma_tumor': 510\n",
            "  Number of images in class 'meningioma_tumor': 517\n",
            "  Number of images in class 'no_tumor': 480\n",
            "  Number of images in class 'pituitary_tumor': 533\n",
            "Total number of images: 10183\n"
          ]
        }
      ],
      "source": [
        "split_list = ['train', 'val', 'test']\n",
        "subdir_path = '/content/drive/MyDrive/Colab Notebooks/Raw_Data_Split'\n",
        "\n",
        "tot_images = 0\n",
        "for split in split_list:\n",
        "    split_path = os.path.join(subdir_path, split)\n",
        "    if os.path.isdir(split_path):\n",
        "        print(f\"{split} set image distribution:\")\n",
        "        for class_folder in subdir_list:\n",
        "            class_folder_path = os.path.join(split_path, class_folder)\n",
        "            if os.path.isdir(class_folder_path):\n",
        "                num_images = count_images(class_folder_path)\n",
        "                tot_images += num_images\n",
        "                print(f\"  Number of images in class '{class_folder}': {num_images}\")\n",
        "print(f\"Total number of images: {tot_images}\")"
      ]
    },
    {
      "cell_type": "markdown",
      "metadata": {
        "id": "3D_fUmmJ8yDB"
      },
      "source": [
        "Image Augmentation and DataLoader creation"
      ]
    },
    {
      "cell_type": "code",
      "execution_count": 9,
      "metadata": {
        "id": "MsuAai_t8fQf"
      },
      "outputs": [],
      "source": [
        "# randomly changing color intensity in each image by a constant value\n",
        "\n",
        "folder_path = '/content/Raw_Data_v2/Raw_Data_Split/train'\n",
        "\n",
        "for Class in ['glioma_tumor', 'meningioma_tumor', 'no_tumor', 'pituitary_tumor']:\n",
        "  class_path = os.path.join(folder_path, Class)\n",
        "\n",
        "  # List contents of the folder\n",
        "  contents = os.listdir(class_path)\n",
        "\n",
        "  for img_name in contents:\n",
        "    img_path = os.path.join(class_path, img_name)\n",
        "    img = plt.imread(img_path)\n",
        "\n",
        "    random_num = np.random.randint(0,1)\n",
        "    if(random_num < 0.5):\n",
        "      img = img/255\n",
        "      img = np.clip((img + 0.25), 0, 1)"
      ]
    },
    {
      "cell_type": "code",
      "execution_count": 10,
      "metadata": {
        "id": "IK8OIczhNM20"
      },
      "outputs": [],
      "source": [
        "def create_loaders(batch_size):\n",
        "\n",
        "    transform = transforms.Compose([transforms.ToTensor(),\n",
        "                                    transforms.Grayscale(num_output_channels=1),\n",
        "                                    transforms.Resize((224, 224)),\n",
        "                                    transforms.Normalize((0.5), (0.5))\n",
        "                                    ])\n",
        "\n",
        "    augment = transforms.Compose([transforms.ToTensor(),\n",
        "                                    transforms.Grayscale(num_output_channels=1),\n",
        "                                    transforms.Resize((224, 224)),\n",
        "                                    transforms.Normalize((0.5), (0.5)),\n",
        "                                    transforms.RandomRotation(45),\n",
        "                                    transforms.GaussianBlur(5, (0.1,2))\n",
        "                                    ])\n",
        "\n",
        "\n",
        "\n",
        "    #Create Datasets for each set and apply transformation to training dataset\n",
        "    train_dataset = datasets.ImageFolder(root='/content/Raw_Data_v2/Raw_Data_Split/train', transform=augment)\n",
        "    val_dataset = datasets.ImageFolder(root='/content/Raw_Data_v2/Raw_Data_Split/val', transform = transform)\n",
        "    test_dataset = datasets.ImageFolder(root='/content/Raw_Data_v2/Raw_Data_Split/test', transform = transform)\n",
        "\n",
        "\n",
        "    #Create DataLoaders for each set\n",
        "    train_loader = torch.utils.data.DataLoader(train_dataset, batch_size=batch_size, shuffle=True, num_workers=4, pin_memory=True)\n",
        "    val_loader = torch.utils.data.DataLoader(val_dataset, batch_size=batch_size, shuffle=True, num_workers=4, pin_memory=True)\n",
        "    test_loader = torch.utils.data.DataLoader(test_dataset, batch_size=batch_size, shuffle=True, num_workers=4, pin_memory=True)\n",
        "\n",
        "    return train_loader, val_loader, test_loader"
      ]
    },
    {
      "cell_type": "markdown",
      "metadata": {
        "id": "XOYusrwKAq5f"
      },
      "source": [
        "Modified ResNet"
      ]
    },
    {
      "cell_type": "code",
      "execution_count": 11,
      "metadata": {
        "colab": {
          "base_uri": "https://localhost:8080/"
        },
        "id": "TbCvBp1dO7aS",
        "outputId": "cebd4a99-15c4-4fe1-ab9e-ac9728042a16"
      },
      "outputs": [
        {
          "output_type": "stream",
          "name": "stderr",
          "text": [
            "/usr/local/lib/python3.10/dist-packages/torchvision/models/_utils.py:208: UserWarning: The parameter 'pretrained' is deprecated since 0.13 and may be removed in the future, please use 'weights' instead.\n",
            "  warnings.warn(\n",
            "/usr/local/lib/python3.10/dist-packages/torchvision/models/_utils.py:223: UserWarning: Arguments other than a weight enum or `None` for 'weights' are deprecated since 0.13 and may be removed in the future. The current behavior is equivalent to passing `weights=ResNet18_Weights.IMAGENET1K_V1`. You can also use `weights=ResNet18_Weights.DEFAULT` to get the most up-to-date weights.\n",
            "  warnings.warn(msg)\n",
            "Downloading: \"https://download.pytorch.org/models/resnet18-f37072fd.pth\" to /root/.cache/torch/hub/checkpoints/resnet18-f37072fd.pth\n",
            "100%|██████████| 44.7M/44.7M [00:00<00:00, 130MB/s]\n"
          ]
        }
      ],
      "source": [
        "# Load pre-trained model and modify the final layer\n",
        "from torchvision import models\n",
        "model = models.resnet18(pretrained=True)\n",
        "\n",
        "# Modify the first convolutional layer to accept 1 channel instead of 3\n",
        "model.conv1 = nn.Conv2d(1, 64, kernel_size=7, stride=2, padding=3, bias=False)\n",
        "\n",
        "# Modify the final layer to have 4 classes\n",
        "num_ftrs = model.fc.in_features\n",
        "model.fc = nn.Linear(num_ftrs, 4)  # 4 classes\n",
        "\n",
        "def freeze_layers(model):\n",
        "    layers = list(model.children())\n",
        "    num_layers_to_freeze = len(layers) // 2\n",
        "\n",
        "    for i in range(num_layers_to_freeze):\n",
        "        for param in layers[i].parameters():\n",
        "            param.requires_grad = False"
      ]
    },
    {
      "cell_type": "code",
      "execution_count": 12,
      "metadata": {
        "colab": {
          "base_uri": "https://localhost:8080/"
        },
        "id": "Y21CawNcGH0J",
        "outputId": "54f1e0c9-4c2b-4841-93cb-3f1c881b235c"
      },
      "outputs": [
        {
          "output_type": "stream",
          "name": "stdout",
          "text": [
            "Wed Jul  3 18:56:22 2024       \n",
            "+---------------------------------------------------------------------------------------+\n",
            "| NVIDIA-SMI 535.104.05             Driver Version: 535.104.05   CUDA Version: 12.2     |\n",
            "|-----------------------------------------+----------------------+----------------------+\n",
            "| GPU  Name                 Persistence-M | Bus-Id        Disp.A | Volatile Uncorr. ECC |\n",
            "| Fan  Temp   Perf          Pwr:Usage/Cap |         Memory-Usage | GPU-Util  Compute M. |\n",
            "|                                         |                      |               MIG M. |\n",
            "|=========================================+======================+======================|\n",
            "|   0  NVIDIA L4                      Off | 00000000:00:03.0 Off |                    0 |\n",
            "| N/A   39C    P8              12W /  72W |      1MiB / 23034MiB |      0%      Default |\n",
            "|                                         |                      |                  N/A |\n",
            "+-----------------------------------------+----------------------+----------------------+\n",
            "                                                                                         \n",
            "+---------------------------------------------------------------------------------------+\n",
            "| Processes:                                                                            |\n",
            "|  GPU   GI   CI        PID   Type   Process name                            GPU Memory |\n",
            "|        ID   ID                                                             Usage      |\n",
            "|=======================================================================================|\n",
            "|  No running processes found                                                           |\n",
            "+---------------------------------------------------------------------------------------+\n"
          ]
        }
      ],
      "source": [
        "!nvidia-smi"
      ]
    },
    {
      "cell_type": "code",
      "execution_count": 13,
      "metadata": {
        "colab": {
          "base_uri": "https://localhost:8080/"
        },
        "id": "CwVJ34y4F-qb",
        "outputId": "ec43f04b-eca2-437c-d1e7-5480825fe2e8"
      },
      "outputs": [
        {
          "output_type": "stream",
          "name": "stdout",
          "text": [
            "CUDA is available!  Training on GPU ...\n"
          ]
        }
      ],
      "source": [
        "use_cuda = True\n",
        "\n",
        "if use_cuda and torch.cuda.is_available():\n",
        "  model.cuda()\n",
        "  print('CUDA is available!  Training on GPU ...')\n",
        "else:\n",
        "  print('CUDA is not available.  Training on CPU ...')"
      ]
    },
    {
      "cell_type": "code",
      "execution_count": 14,
      "metadata": {
        "id": "0nOl7fjOFWSc"
      },
      "outputs": [],
      "source": [
        "train_loader, val_loader, test_loader = create_loaders(128)"
      ]
    },
    {
      "cell_type": "markdown",
      "metadata": {
        "id": "7FH48XG17wX-"
      },
      "source": [
        "Accuracy and Train functions"
      ]
    },
    {
      "cell_type": "code",
      "execution_count": 15,
      "metadata": {
        "id": "5ERjQ1lnEDlQ"
      },
      "outputs": [],
      "source": [
        "def get_accuracy(model, train_loader, val_loader, train=False):\n",
        "    if train:\n",
        "        data = train_loader\n",
        "    else:\n",
        "        data = val_loader\n",
        "\n",
        "    correct = 0\n",
        "    total = 0\n",
        "    for imgs, labels in data:\n",
        "\n",
        "        #############################################\n",
        "        #To Enable GPU Usage\n",
        "        if use_cuda and torch.cuda.is_available():\n",
        "          imgs = imgs.cuda()\n",
        "          labels = labels.cuda()\n",
        "        #############################################\n",
        "\n",
        "        output = model(imgs)\n",
        "\n",
        "        #select index with maximum prediction score\n",
        "        pred = output.max(1, keepdim=True)[1]\n",
        "        correct += pred.eq(labels.view_as(pred)).sum().item()\n",
        "        total += imgs.shape[0]\n",
        "    return correct / total"
      ]
    },
    {
      "cell_type": "code",
      "execution_count": 17,
      "metadata": {
        "colab": {
          "base_uri": "https://localhost:8080/",
          "height": 1000
        },
        "id": "B0IsDqCUPDR5",
        "outputId": "cf721f3e-f33d-4a1c-c92c-f0df949498d6"
      },
      "outputs": [
        {
          "output_type": "stream",
          "name": "stdout",
          "text": [
            "Epoch loss: 0.005197896156460047 Train acc: 0.3652586771447282 Validation acc: 0.36265356265356263\n",
            "Epoch loss: 0.003715052967891097 Train acc: 0.5771119842829077 Validation acc: 0.5911547911547912\n",
            "Epoch loss: 0.0034071619156748056 Train acc: 0.6529142108709889 Validation acc: 0.6643734643734643\n",
            "Epoch loss: 0.0025210499297827482 Train acc: 0.6820563195808775 Validation acc: 0.6722358722358722\n",
            "Epoch loss: 0.0027833767235279083 Train acc: 0.712671905697446 Validation acc: 0.714987714987715\n",
            "Epoch loss: 0.0019499033223837614 Train acc: 0.7786509495743288 Validation acc: 0.7498771498771499\n",
            "Epoch loss: 0.0016819911543279886 Train acc: 0.8131958087753766 Validation acc: 0.7316953316953317\n",
            "Epoch loss: 0.0017499320674687624 Train acc: 0.8392272429600524 Validation acc: 0.8117936117936118\n",
            "Epoch loss: 0.0021429662592709064 Train acc: 0.8364440078585462 Validation acc: 0.7941031941031941\n",
            "Epoch loss: 0.0017301157349720597 Train acc: 0.8439751146037983 Validation acc: 0.8196560196560196\n",
            "Epoch loss: 0.001681735273450613 Train acc: 0.8526522593320236 Validation acc: 0.8339066339066339\n",
            "Epoch loss: 0.0015061111189424992 Train acc: 0.8695153896529142 Validation acc: 0.8004914004914004\n",
            "Epoch loss: 0.0011675400892272592 Train acc: 0.883267845448592 Validation acc: 0.8697788697788698\n",
            "Epoch loss: 0.0012390780029818416 Train acc: 0.9012770137524558 Validation acc: 0.8722358722358723\n",
            "Epoch loss: 0.0008748152758926153 Train acc: 0.9183038637851998 Validation acc: 0.9105651105651106\n",
            "Epoch loss: 0.0007348962244577706 Train acc: 0.9107727570399476 Validation acc: 0.8619164619164619\n",
            "Epoch loss: 0.0008355159079656005 Train acc: 0.9268172888015717 Validation acc: 0.8938574938574939\n",
            "Epoch loss: 0.0008085056324489415 Train acc: 0.9320563195808775 Validation acc: 0.8874692874692874\n",
            "Epoch loss: 0.0009484418551437557 Train acc: 0.9428618205631958 Validation acc: 0.9100737100737101\n",
            "Epoch loss: 0.000698214687872678 Train acc: 0.941879502292076 Validation acc: 0.9169533169533169\n",
            "Epoch loss: 0.001053687883540988 Train acc: 0.949901768172888 Validation acc: 0.9277641277641278\n",
            "Epoch loss: 0.0007551955059170723 Train acc: 0.9415520628683693 Validation acc: 0.9233415233415233\n",
            "Epoch loss: 0.0007145215640775859 Train acc: 0.960543549443353 Validation acc: 0.9287469287469288\n",
            "Epoch loss: 0.0006210404098965228 Train acc: 0.9551407989521938 Validation acc: 0.917936117936118\n",
            "Epoch loss: 0.0004886902752332389 Train acc: 0.9677472167648985 Validation acc: 0.9356265356265356\n"
          ]
        },
        {
          "output_type": "display_data",
          "data": {
            "text/plain": [
              "<Figure size 640x480 with 1 Axes>"
            ],
            "image/png": "[encoded data removed]"
          },
          "metadata": {}
        },
        {
          "output_type": "display_data",
          "data": {
            "text/plain": [
              "<Figure size 640x480 with 1 Axes>"
            ],
            "image/png": "[encoded data removed]"
          },
          "metadata": {}
        },
        {
          "output_type": "stream",
          "name": "stdout",
          "text": [
            "Final Training Accuracy: 0.9677472167648985\n",
            "Final Validation Accuracy: 0.9356265356265356\n"
          ]
        }
      ],
      "source": [
        "criterion = nn.CrossEntropyLoss()\n",
        "optimizer = optim.Adam(model.parameters(), lr=0.01)\n",
        "\n",
        "iters, losses, train_acc, val_acc = [], [], [], []\n",
        "\n",
        "num_epochs = 25\n",
        "batch_size = 128\n",
        "\n",
        "# training\n",
        "n = 0 # the number of iterations\n",
        "for epoch in range(num_epochs):\n",
        "    for imgs, labels in iter(train_loader):\n",
        "\n",
        "        #############################################\n",
        "        #To Enable GPU Usage\n",
        "        if use_cuda and torch.cuda.is_available():\n",
        "            imgs = imgs.cuda()\n",
        "            labels = labels.cuda()\n",
        "        #############################################\n",
        "\n",
        "        out = model(imgs)             # forward pass\n",
        "\n",
        "        loss = criterion(out, labels) # compute the total loss\n",
        "        loss.backward()               # backward pass (compute parameter updates)\n",
        "        optimizer.step()              # make the updates for each parameter\n",
        "        optimizer.zero_grad()         # a clean up step for PyTorch\n",
        "\n",
        "        # save the current training information\n",
        "        iters.append(n)\n",
        "        losses.append(float(loss)/batch_size)             # compute *average* loss\n",
        "        train_acc.append(get_accuracy(model, train_loader, val_loader, train=True)) # compute training accuracy\n",
        "        val_acc.append(get_accuracy(model, train_loader, val_loader, train=False))  # compute validation accuracy\n",
        "    n += 1\n",
        "    print(\"Epoch loss: {} Train acc: {} Validation acc: {}\".format(losses[-1], train_acc[-1], val_acc[-1]))\n",
        "\n",
        "# plotting\n",
        "plt.title(\"Training Curve\")\n",
        "plt.plot(iters, losses, label=\"Train\")\n",
        "plt.xlabel(\"Epoch\")\n",
        "plt.ylabel(\"Loss\")\n",
        "plt.show()\n",
        "\n",
        "plt.title(\"Training Curve\")\n",
        "plt.plot(iters, train_acc, label=\"Train\")\n",
        "plt.plot(iters, val_acc, label=\"Validation\")\n",
        "plt.xlabel(\"Epoch\")\n",
        "plt.ylabel(\"Training Accuracy\")\n",
        "plt.legend(loc='best')\n",
        "plt.show()\n",
        "\n",
        "print(\"Final Training Accuracy: {}\".format(train_acc[-1]))\n",
        "print(\"Final Validation Accuracy: {}\".format(val_acc[-1]))\n",
        "torch.save(model.state_dict(), 'brain_tumor_model2.pth')"
      ]
    },
    {
      "cell_type": "markdown",
      "metadata": {
        "id": "y9JMELeK70KP"
      },
      "source": [
        "Test function that also computes confusion matrix"
      ]
    },
    {
      "cell_type": "code",
      "execution_count": 18,
      "metadata": {
        "id": "V8gp9-6kVg7B",
        "colab": {
          "base_uri": "https://localhost:8080/",
          "height": 790
        },
        "outputId": "0876dd89-4696-453f-d321-b5f1017a1deb"
      },
      "outputs": [
        {
          "output_type": "stream",
          "name": "stderr",
          "text": [
            "/usr/local/lib/python3.10/dist-packages/torch/nn/modules/conv.py:456: UserWarning: Plan failed with a cudnnException: CUDNN_BACKEND_EXECUTION_PLAN_DESCRIPTOR: cudnnFinalize Descriptor Failed cudnn_status: CUDNN_STATUS_NOT_SUPPORTED (Triggered internally at ../aten/src/ATen/native/cudnn/Conv_v8.cpp:919.)\n",
            "  return F.conv2d(input, weight, bias, self.stride,\n"
          ]
        },
        {
          "output_type": "display_data",
          "data": {
            "text/plain": [
              "<Figure size 1000x800 with 2 Axes>"
            ],
            "image/png": "[encoded data removed]"
          },
          "metadata": {}
        },
        {
          "output_type": "stream",
          "name": "stdout",
          "text": [
            "Accuracy: 0.9578\n"
          ]
        }
      ],
      "source": [
        "from sklearn.metrics import confusion_matrix\n",
        "import seaborn as sns\n",
        "\n",
        "def get_accuracy_test(model, test_loader):\n",
        "    model.eval()  # Set the model to evaluation mode\n",
        "\n",
        "    correct = 0\n",
        "    total = 0\n",
        "    all_preds = []\n",
        "    all_labels = []\n",
        "\n",
        "    with torch.no_grad():\n",
        "        for imgs, labels in test_loader:\n",
        "            #############################################\n",
        "            #To Enable GPU Usage\n",
        "            if use_cuda and torch.cuda.is_available():\n",
        "                imgs = imgs.cuda()\n",
        "                labels = labels.cuda()\n",
        "            #############################################\n",
        "\n",
        "            output = model(imgs)\n",
        "\n",
        "            # Select index with maximum prediction score\n",
        "            pred = output.max(1, keepdim=True)[1]\n",
        "            correct += pred.eq(labels.view_as(pred)).sum().item()\n",
        "            total += imgs.shape[0]\n",
        "\n",
        "            # Store predictions and labels for confusion matrix\n",
        "            all_preds.extend(pred.cpu().numpy())\n",
        "            all_labels.extend(labels.cpu().numpy())\n",
        "\n",
        "    accuracy = correct / total\n",
        "\n",
        "    # Calculate confusion matrix\n",
        "    cm = confusion_matrix(all_labels, all_preds)\n",
        "\n",
        "    # Plot confusion matrix\n",
        "    plt.figure(figsize=(10, 8))\n",
        "    sns.heatmap(cm, annot=True, fmt='d', cmap='Blues', xticklabels=test_loader.dataset.classes, yticklabels=test_loader.dataset.classes)\n",
        "    plt.xlabel('Predicted')\n",
        "    plt.ylabel('True')\n",
        "    plt.title('Confusion Matrix')\n",
        "    plt.show()\n",
        "\n",
        "    return accuracy\n",
        "\n",
        "accuracy = get_accuracy_test(model, test_loader)\n",
        "print(f'Accuracy: {accuracy:.4f}')\n"
      ]
    }
  ],
  "metadata": {
    "accelerator": "GPU",
    "colab": {
      "gpuType": "L4",
      "machine_shape": "hm",
      "provenance": []
    },
    "kernelspec": {
      "display_name": "Python 3",
      "name": "python3"
    },
    "language_info": {
      "name": "python"
    }
  },
  "nbformat": 4,
  "nbformat_minor": 0
}